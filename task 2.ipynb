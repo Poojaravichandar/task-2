{
 "cells": [
  {
   "cell_type": "code",
   "execution_count": 4,
   "metadata": {},
   "outputs": [
    {
     "name": "stdout",
     "output_type": "stream",
     "text": [
      "String with vowels removed: \n"
     ]
    }
   ],
   "source": [
    "def remove_vowels(input_string):\n",
    "    # Define a string containing all vowels\n",
    "    vowels = \"aeiouAEIOU\"\n",
    "    # Initialize an empty string to store the result\n",
    "    result_string = \"\"\n",
    "    \n",
    "    # Iterate through each character in the input string\n",
    "    for char in input_string:\n",
    "        # If the character is not a vowel, add it to the result string\n",
    "        if char not in vowels:\n",
    "            result_string += char\n",
    "    \n",
    "    return result_string\n",
    "\n",
    "# Input string\n",
    "input_string = input(\"Enter a string: \")\n",
    "\n",
    "# Call the function and print the result\n",
    "result = remove_vowels(input_string)\n",
    "print(\"String with vowels removed:\", result)"
   ]
  },
  {
   "cell_type": "code",
   "execution_count": 8,
   "metadata": {},
   "outputs": [
    {
     "name": "stdout",
     "output_type": "stream",
     "text": [
      "The strings are anagrams.\n"
     ]
    }
   ],
   "source": [
    "def is_anagram(str1, str2):\n",
    "    # Convert both strings to lowercase for case-insensitive comparison\n",
    "    str1 = str1.lower()\n",
    "    str2 = str2.lower()\n",
    "    \n",
    "    # Remove spaces from both strings\n",
    "    str1 = str1.replace(\" \", \"\")\n",
    "    str2 = str2.replace(\" \", \"\")\n",
    "    \n",
    "    # Check if the length of both strings is the same\n",
    "    if len(str1) != len(str2):\n",
    "        return False\n",
    "    \n",
    "    # Count the frequency of characters in both strings\n",
    "    char_count = {}\n",
    "    for char in str1:\n",
    "        char_count[char] = char_count.get(char, 0) + 1\n",
    "    for char in str2:\n",
    "        char_count[char] = char_count.get(char, 0) - 1\n",
    "    \n",
    "    # If all counts are 0, the strings are anagrams\n",
    "    for count in char_count.values():\n",
    "        if count != 0:\n",
    "            return False\n",
    "    \n",
    "    return True\n",
    "\n",
    "# Input strings\n",
    "string1 = input(\"Enter the first string: \")\n",
    "string2 = input(\"Enter the second string: \")\n",
    "\n",
    "# Call the function and print the result\n",
    "result = is_anagram(string1, string2)\n",
    "if result:\n",
    "    print(\"The strings are anagrams.\")\n",
    "else:\n",
    "    print(\"The strings are not anagrams.\")"
   ]
  },
  {
   "cell_type": "code",
   "execution_count": 9,
   "metadata": {},
   "outputs": [
    {
     "name": "stdout",
     "output_type": "stream",
     "text": [
      "Number of words in the string: 0\n"
     ]
    }
   ],
   "source": [
    "def count_words(input_string):\n",
    "    # Split the string into words using whitespace as a delimiter\n",
    "    words = input_string.split()\n",
    "    # Return the number of words\n",
    "    return len(words)\n",
    "\n",
    "# Input string\n",
    "input_string = input(\"Enter a string: \")\n",
    "\n",
    "# Call the function and print the result\n",
    "word_count = count_words(input_string)\n",
    "print(\"Number of words in the string:\", word_count)"
   ]
  },
  {
   "cell_type": "code",
   "execution_count": 10,
   "metadata": {},
   "outputs": [
    {
     "name": "stdout",
     "output_type": "stream",
     "text": [
      "Longest common substring: \n"
     ]
    }
   ],
   "source": [
    "def longest_common_substring(str1, str2):\n",
    "    # Initialize a 2D array to store lengths of longest common suffixes\n",
    "    m = len(str1)\n",
    "    n = len(str2)\n",
    "    dp = [[0] * (n + 1) for _ in range(m + 1)]\n",
    "    \n",
    "    # Variables to store the length of the longest common substring and its end position\n",
    "    max_length = 0\n",
    "    end_position = 0\n",
    "    \n",
    "    # Iterate through the strings to fill the dp array\n",
    "    for i in range(1, m + 1):\n",
    "        for j in range(1, n + 1):\n",
    "            if str1[i - 1] == str2[j - 1]:\n",
    "                dp[i][j] = dp[i - 1][j - 1] + 1\n",
    "                if dp[i][j] > max_length:\n",
    "                    max_length = dp[i][j]\n",
    "                    end_position = i\n",
    "            else:\n",
    "                dp[i][j] = 0\n",
    "    \n",
    "    # Extract the longest common substring\n",
    "    start_position = end_position - max_length\n",
    "    longest_common_substring = str1[start_position:end_position]\n",
    "    \n",
    "    return longest_common_substring\n",
    "\n",
    "# Input strings\n",
    "string1 = input(\"Enter the first string: \")\n",
    "string2 = input(\"Enter the second string: \")\n",
    "\n",
    "# Call the function and print the result\n",
    "result = longest_common_substring(string1, string2)\n",
    "print(\"Longest common substring:\", result)"
   ]
  },
  {
   "cell_type": "code",
   "execution_count": 11,
   "metadata": {},
   "outputs": [
    {
     "name": "stdout",
     "output_type": "stream",
     "text": [
      "The string is empty.\n"
     ]
    }
   ],
   "source": [
    "def most_frequent_character(input_string):\n",
    "    # Initialize a dictionary to store character frequencies\n",
    "    char_frequency = {}\n",
    "    \n",
    "    # Count the frequency of each character in the string\n",
    "    for char in input_string:\n",
    "        char_frequency[char] = char_frequency.get(char, 0) + 1\n",
    "    \n",
    "    # Find the character with the maximum frequency\n",
    "    max_frequency = 0\n",
    "    most_frequent_char = None\n",
    "    for char, frequency in char_frequency.items():\n",
    "        if frequency > max_frequency:\n",
    "            max_frequency = frequency\n",
    "            most_frequent_char = char\n",
    "    \n",
    "    return most_frequent_char\n",
    "\n",
    "# Input string\n",
    "input_string = input(\"Enter a string: \")\n",
    "\n",
    "# Call the function and print the result\n",
    "result = most_frequent_character(input_string)\n",
    "if result:\n",
    "    print(\"The most frequent character in the string is:\", result)\n",
    "else:\n",
    "    print(\"The string is empty.\")"
   ]
  },
  {
   "cell_type": "code",
   "execution_count": 12,
   "metadata": {},
   "outputs": [
    {
     "name": "stdout",
     "output_type": "stream",
     "text": [
      "The string is a palindrome.\n"
     ]
    }
   ],
   "source": [
    "def is_palindrome(input_string):\n",
    "    # Remove spaces and convert to lowercase for case-insensitive comparison\n",
    "    input_string = input_string.replace(\" \", \"\").lower()\n",
    "    # Check if the string is equal to its reverse\n",
    "    return input_string == input_string[::-1]\n",
    "\n",
    "# Input string\n",
    "input_string = input(\"Enter a string: \")\n",
    "\n",
    "# Call the function and print the result\n",
    "result = is_palindrome(input_string)\n",
    "if result:\n",
    "    print(\"The string is a palindrome.\")\n",
    "else:\n",
    "    print(\"The string is not a palindrome.\")"
   ]
  },
  {
   "cell_type": "code",
   "execution_count": 13,
   "metadata": {},
   "outputs": [
    {
     "name": "stdout",
     "output_type": "stream",
     "text": [
      "Number of unique characters: 0\n"
     ]
    }
   ],
   "source": [
    "def count_unique_characters(input_string):\n",
    "    # Convert the string to a set to remove duplicates\n",
    "    unique_characters = set(input_string)\n",
    "    # Return the number of unique characters\n",
    "    return len(unique_characters)\n",
    "\n",
    "# Input string\n",
    "input_string = input(\"Enter a string: \")\n",
    "\n",
    "# Call the function and print the result\n",
    "unique_count = count_unique_characters(input_string)\n",
    "print(\"Number of unique characters:\", unique_count)"
   ]
  },
  {
   "cell_type": "code",
   "execution_count": 14,
   "metadata": {},
   "outputs": [
    {
     "name": "stdout",
     "output_type": "stream",
     "text": [
      "Total number of vowels: 12\n",
      "Count of individual vowels:\n",
      "A: 1\n",
      "E: 5\n",
      "I: 4\n",
      "O: 1\n",
      "U: 1\n"
     ]
    }
   ],
   "source": [
    "def count_vowels(string):\n",
    "    # Convert the string to lowercase to handle both uppercase and lowercase vowels\n",
    "    string = string.lower()\n",
    "    \n",
    "    # Initialize counters for individual vowels and total vowels\n",
    "    count_a = count_e = count_i = count_o = count_u = 0\n",
    "    total_vowels = 0\n",
    "    \n",
    "    # Iterate through each character in the string\n",
    "    for char in string:\n",
    "        if char in 'aeiou':\n",
    "            # Increment the total vowel count\n",
    "            total_vowels += 1\n",
    "            # Increment the count of the individual vowel\n",
    "            if char == 'a':\n",
    "                count_a += 1\n",
    "            elif char == 'e':\n",
    "                count_e += 1\n",
    "            elif char == 'i':\n",
    "                count_i += 1\n",
    "            elif char == 'o':\n",
    "                count_o += 1\n",
    "            elif char == 'u':\n",
    "                count_u += 1\n",
    "    \n",
    "    return total_vowels, count_a, count_e, count_i, count_o, count_u\n",
    "\n",
    "# Main program\n",
    "input_string = \"Guvi Geeks Network Private Limited\"\n",
    "total_vowels, count_a, count_e, count_i, count_o, count_u = count_vowels(input_string)\n",
    "\n",
    "print(\"Total number of vowels:\", total_vowels)\n",
    "print(\"Count of individual vowels:\")\n",
    "print(\"A:\", count_a)\n",
    "print(\"E:\", count_e)\n",
    "print(\"I:\", count_i)\n",
    "print(\"O:\", count_o)\n",
    "print(\"U:\", count_u)"
   ]
  },
  {
   "cell_type": "code",
   "execution_count": 15,
   "metadata": {},
   "outputs": [
    {
     "name": "stdout",
     "output_type": "stream",
     "text": [
      "     1 \n",
      "    2 3 \n",
      "   4 5 6 \n",
      "  7 8 9 10 \n",
      " 11 12 13 14 15 \n",
      "16 17 18 19 20 \n"
     ]
    }
   ],
   "source": [
    "# Number of rows in the pyramid\n",
    "rows = 6\n",
    "num = 1\n",
    "\n",
    "# Outer loop for the number of rows\n",
    "for i in range(1, rows + 1):\n",
    "    # Inner loop for printing spaces\n",
    "    for j in range(1, rows - i + 1):\n",
    "        print(\" \", end=\"\")\n",
    "    \n",
    "    # Inner loop for printing numbers\n",
    "    for k in range(1, i + 1):\n",
    "        print(num, end=\" \")\n",
    "        num += 1\n",
    "        if num > 20:\n",
    "            break\n",
    "    \n",
    "    # Move to the next line after each row is printed\n",
    "    print()"
   ]
  },
  {
   "cell_type": "code",
   "execution_count": null,
   "metadata": {},
   "outputs": [],
   "source": []
  }
 ],
 "metadata": {
  "kernelspec": {
   "display_name": "Python 3",
   "language": "python",
   "name": "python3"
  },
  "language_info": {
   "codemirror_mode": {
    "name": "ipython",
    "version": 3
   },
   "file_extension": ".py",
   "mimetype": "text/x-python",
   "name": "python",
   "nbconvert_exporter": "python",
   "pygments_lexer": "ipython3",
   "version": "3.12.2"
  }
 },
 "nbformat": 4,
 "nbformat_minor": 2
}
